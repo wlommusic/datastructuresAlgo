{
  "nbformat": 4,
  "nbformat_minor": 0,
  "metadata": {
    "colab": {
      "name": "array-ques.ipynb",
      "provenance": [],
      "collapsed_sections": [],
      "authorship_tag": "ABX9TyN+4Mvz31NNYBA81GBbup11",
      "include_colab_link": true
    },
    "kernelspec": {
      "name": "python3",
      "display_name": "Python 3"
    },
    "language_info": {
      "name": "python"
    }
  },
  "cells": [
    {
      "cell_type": "markdown",
      "metadata": {
        "id": "view-in-github",
        "colab_type": "text"
      },
      "source": [
        "<a href=\"https://colab.research.google.com/github/wlommusic/datastructuresAlgo/blob/dsa2/array_ques.ipynb\" target=\"_parent\"><img src=\"https://colab.research.google.com/assets/colab-badge.svg\" alt=\"Open In Colab\"/></a>"
      ]
    },
    {
      "cell_type": "markdown",
      "source": [
        "# anagram"
      ],
      "metadata": {
        "id": "KhlI_yOf0rDk"
      }
    },
    {
      "cell_type": "code",
      "execution_count": null,
      "metadata": {
        "id": "bTDTMQRuqwW5"
      },
      "outputs": [],
      "source": [
        "def anagram1(s1,s2):\n",
        "  s1 = s1.replace(' ','').lower()\n",
        "  s2 = s2.replace(' ','').lower()\n",
        "  return sorted(s1) == sorted(s2)"
      ]
    },
    {
      "cell_type": "code",
      "source": [
        "anagram1('god','dog')"
      ],
      "metadata": {
        "colab": {
          "base_uri": "https://localhost:8080/"
        },
        "id": "WjUQrdDJrum8",
        "outputId": "e4a33408-e6d6-445a-b89e-1d7d132ad1f0"
      },
      "execution_count": null,
      "outputs": [
        {
          "output_type": "execute_result",
          "data": {
            "text/plain": [
              "True"
            ]
          },
          "metadata": {},
          "execution_count": 11
        }
      ]
    },
    {
      "cell_type": "code",
      "source": [
        "def anagram2(s1,s2):\n",
        "   s1 = s1.replace(' ','').lower()\n",
        "   s2 = s2.replace(' ','').lower()\n",
        "   \n",
        "   if len(s1) != len(s2):\n",
        "     return False\n",
        "\n",
        "   count={}\n",
        "   \n",
        "   for letter in s1:\n",
        "     if letter in count:\n",
        "       count[letter]+=1\n",
        "     else:\n",
        "       count[letter]=1\n",
        "\n",
        "   for letter in s2:\n",
        "     if letter in count:\n",
        "       count[letter]-=1\n",
        "     else:\n",
        "       count[letter]=1   \n",
        "   \n",
        "   for k in count:\n",
        "     if count[k]!=0:\n",
        "       return False\n",
        "\n",
        "   return True      \n",
        "\n",
        "\n"
      ],
      "metadata": {
        "id": "OiyJ0Otlr8c0"
      },
      "execution_count": null,
      "outputs": []
    },
    {
      "cell_type": "code",
      "source": [
        "anagram2('clint eastwood','old west action')"
      ],
      "metadata": {
        "colab": {
          "base_uri": "https://localhost:8080/"
        },
        "id": "pe8k-tuJ3MeD",
        "outputId": "629a9707-e0ba-46dc-f4c0-caf63f7b0948"
      },
      "execution_count": null,
      "outputs": [
        {
          "output_type": "execute_result",
          "data": {
            "text/plain": [
              "True"
            ]
          },
          "metadata": {},
          "execution_count": 16
        }
      ]
    },
    {
      "cell_type": "markdown",
      "source": [
        "# pair of sums"
      ],
      "metadata": {
        "id": "Y2BY-zbl0ujU"
      }
    },
    {
      "cell_type": "code",
      "source": [
        "def pair_sum(arr,k):\n",
        "    \n",
        "    if len(arr)<2:\n",
        "        return\n",
        "    \n",
        "    # Sets for tracking\n",
        "    seen = set()\n",
        "    output = set()\n",
        "    \n",
        "    # For every number in array\n",
        "    for num in arr:\n",
        "        \n",
        "        # Set target difference\n",
        "        target = k-num\n",
        "        \n",
        "        # Add it to set if target hasn't been seen\n",
        "        if target not in seen:\n",
        "            seen.add(num)\n",
        "        \n",
        "        else:\n",
        "            # Add a tuple with the corresponding pair\n",
        "            output.add( (min(num,target),  max(num,target)) )\n",
        "    \n",
        "    \n",
        "    # FOR TESTING\n",
        "    # return len(output)\n",
        "    # Nice one-liner for printing output\n",
        "    print ('\\n'.join(map(str,list(output))) )   "
      ],
      "metadata": {
        "id": "KNd9UlAX0yng"
      },
      "execution_count": null,
      "outputs": []
    },
    {
      "cell_type": "code",
      "source": [
        "pair_sum([1,2,3,2],4)"
      ],
      "metadata": {
        "colab": {
          "base_uri": "https://localhost:8080/"
        },
        "id": "FyGT5vQD2O3R",
        "outputId": "846f1342-336a-41e7-d274-20d27c101a68"
      },
      "execution_count": null,
      "outputs": [
        {
          "output_type": "stream",
          "name": "stdout",
          "text": [
            "(1, 3)\n",
            "(2, 2)\n"
          ]
        }
      ]
    },
    {
      "cell_type": "markdown",
      "source": [
        "# finder"
      ],
      "metadata": {
        "id": "SevX7CGI9--o"
      }
    },
    {
      "cell_type": "code",
      "source": [
        "def finder(arr,arr2):\n",
        "  arr.sort()\n",
        "  arr2.sort()\n",
        "  for n1,n2 in zip(arr,arr2):\n",
        "    if n1 != n2 :\n",
        "      return n1"
      ],
      "metadata": {
        "id": "U7YOcgwm-Blz"
      },
      "execution_count": null,
      "outputs": []
    },
    {
      "cell_type": "code",
      "source": [
        "finder2([1,2,3,4,5],[1,2,3,5])"
      ],
      "metadata": {
        "colab": {
          "base_uri": "https://localhost:8080/"
        },
        "id": "kQouFtHJ_vKy",
        "outputId": "27070acb-39a1-43a1-9c25-0ee7ca9abf6f"
      },
      "execution_count": null,
      "outputs": [
        {
          "output_type": "execute_result",
          "data": {
            "text/plain": [
              "4"
            ]
          },
          "metadata": {},
          "execution_count": 8
        }
      ]
    },
    {
      "cell_type": "code",
      "source": [
        "import collections\n",
        "\n",
        "def finder2(arr1, arr2): \n",
        "    \n",
        "    # Using default dict to avoid key errors\n",
        "    d=collections.defaultdict(int) \n",
        "    \n",
        "    # Add a count for every instance in Array 1\n",
        "    for num in arr2:\n",
        "        d[num]+=1 \n",
        "    \n",
        "    # Check if num not in dictionary\n",
        "    for num in arr1: \n",
        "        if d[num]==0: \n",
        "            return num \n",
        "        \n",
        "        # Otherwise, subtract a count\n",
        "        else: d[num]-=1 "
      ],
      "metadata": {
        "id": "7ENH0mXIBOs3"
      },
      "execution_count": null,
      "outputs": []
    },
    {
      "cell_type": "code",
      "source": [
        "def finder3(arr1, arr2): \n",
        "    result=0 \n",
        "    \n",
        "    # Perform an XOR between the numbers in the arrays\n",
        "    for num in arr1+arr2: \n",
        "        result^=num \n",
        "        print(result)\n",
        "        \n",
        "    return result "
      ],
      "metadata": {
        "id": "0qUOUlalBOvI"
      },
      "execution_count": null,
      "outputs": []
    },
    {
      "cell_type": "markdown",
      "source": [
        "# largest sum"
      ],
      "metadata": {
        "id": "xiozNjkLm8x7"
      }
    },
    {
      "cell_type": "code",
      "source": [
        "def largest_sum(arr):    \n",
        "    if len(arr)==0:\n",
        "      return 'error'\n",
        "    cur_sum = max_sum = arr[0]\n",
        "    for x in arr[1:]:\n",
        "      cur_sum = max(cur_sum+x,x)\n",
        "      max_sum = max(max_sum,cur_sum)\n",
        "    return max_sum\n"
      ],
      "metadata": {
        "id": "TKUxg6YWm--2"
      },
      "execution_count": 13,
      "outputs": []
    },
    {
      "cell_type": "code",
      "source": [
        "largest_sum([1,2,-10,3,4])"
      ],
      "metadata": {
        "colab": {
          "base_uri": "https://localhost:8080/"
        },
        "id": "KaedwO-wokxp",
        "outputId": "10633b5e-fa31-4cde-9b45-a973afa9e70b"
      },
      "execution_count": 16,
      "outputs": [
        {
          "output_type": "execute_result",
          "data": {
            "text/plain": [
              "7"
            ]
          },
          "metadata": {},
          "execution_count": 16
        }
      ]
    },
    {
      "cell_type": "markdown",
      "source": [
        "# word reversal"
      ],
      "metadata": {
        "id": "Yv_GriyMpcu1"
      }
    },
    {
      "cell_type": "code",
      "source": [
        "def word_rev1(s):\n",
        "  \n"
      ],
      "metadata": {
        "id": "SG1fztOZq3DJ"
      },
      "execution_count": null,
      "outputs": []
    },
    {
      "cell_type": "code",
      "source": [
        "def word_rev(s):\n",
        "  \n",
        "  if len(s)==0:\n",
        "    return 'too short'\n",
        "\n",
        "  return \" \".join(s.split()[::-1])    "
      ],
      "metadata": {
        "id": "4ryfx2XYpcbp"
      },
      "execution_count": 20,
      "outputs": []
    },
    {
      "cell_type": "code",
      "source": [
        "word_rev('this is')"
      ],
      "metadata": {
        "colab": {
          "base_uri": "https://localhost:8080/",
          "height": 35
        },
        "id": "-valc-Aaqq6V",
        "outputId": "baa22a97-ef17-4635-c306-d8b81439fbcf"
      },
      "execution_count": 21,
      "outputs": [
        {
          "output_type": "execute_result",
          "data": {
            "application/vnd.google.colaboratory.intrinsic+json": {
              "type": "string"
            },
            "text/plain": [
              "'is this'"
            ]
          },
          "metadata": {},
          "execution_count": 21
        }
      ]
    },
    {
      "cell_type": "markdown",
      "source": [
        "# string compression"
      ],
      "metadata": {
        "id": "OjgfCqz3ym3l"
      }
    },
    {
      "cell_type": "code",
      "source": [
        "def stringComp(s):\n",
        "  l=len(s)\n",
        "  if l==0:\n",
        "    return 0\n",
        "  if l==1:\n",
        "    return s+'1'\n",
        "  r=''\n",
        "  last=s[0]    \n",
        "  cnt=1\n",
        "  i=1\n",
        "  while i<l:\n",
        "    if s[i] == s[i-1]:\n",
        "      cnt+=1\n",
        "    else:\n",
        "      r = r + s[i-1]+str(cnt)\n",
        "      cnt=1\n",
        "    i+=1\n",
        "\n",
        "  r = r + s[i-1]+str(cnt)\n",
        "  return r   "
      ],
      "metadata": {
        "id": "HhfDohh7ysTD"
      },
      "execution_count": 26,
      "outputs": []
    },
    {
      "cell_type": "code",
      "source": [
        "stringComp('aaaaaAAA')"
      ],
      "metadata": {
        "colab": {
          "base_uri": "https://localhost:8080/",
          "height": 35
        },
        "id": "h8cB98YP2xXs",
        "outputId": "5fdd1b2d-625e-47bc-e2f8-8a2676374b37"
      },
      "execution_count": 27,
      "outputs": [
        {
          "output_type": "execute_result",
          "data": {
            "application/vnd.google.colaboratory.intrinsic+json": {
              "type": "string"
            },
            "text/plain": [
              "'a5A3'"
            ]
          },
          "metadata": {},
          "execution_count": 27
        }
      ]
    },
    {
      "cell_type": "markdown",
      "source": [
        "# Unique Characters in String"
      ],
      "metadata": {
        "id": "-RGNiKJp24-L"
      }
    },
    {
      "cell_type": "code",
      "source": [
        "def uni_char(s):\n",
        "  if len(s)== len(set(s)):\n",
        "    return True\n",
        "  return False  "
      ],
      "metadata": {
        "id": "4ucF4o7P27nq"
      },
      "execution_count": 28,
      "outputs": []
    },
    {
      "cell_type": "code",
      "source": [
        "def uni_char2(s):\n",
        "  char=set()\n",
        "  for x in s:\n",
        "    if x in char:\n",
        "      return False\n",
        "    else:\n",
        "      char.add(x) \n",
        "\n",
        "  return True     \n"
      ],
      "metadata": {
        "id": "_HZteiL43f6N"
      },
      "execution_count": 37,
      "outputs": []
    },
    {
      "cell_type": "code",
      "source": [
        "uni_char2('aabc')"
      ],
      "metadata": {
        "colab": {
          "base_uri": "https://localhost:8080/"
        },
        "id": "TW2OVCAU3RgZ",
        "outputId": "78510241-3dc4-492d-88d5-bf1f71536f19"
      },
      "execution_count": 39,
      "outputs": [
        {
          "output_type": "execute_result",
          "data": {
            "text/plain": [
              "False"
            ]
          },
          "metadata": {},
          "execution_count": 39
        }
      ]
    }
  ]
}