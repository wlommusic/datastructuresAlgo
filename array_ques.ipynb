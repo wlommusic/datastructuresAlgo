{
  "nbformat": 4,
  "nbformat_minor": 0,
  "metadata": {
    "colab": {
      "name": "array-ques.ipynb",
      "provenance": [],
      "collapsed_sections": [],
      "authorship_tag": "ABX9TyPllWQrM9xS4nuMGvGnxxY3",
      "include_colab_link": true
    },
    "kernelspec": {
      "name": "python3",
      "display_name": "Python 3"
    },
    "language_info": {
      "name": "python"
    }
  },
  "cells": [
    {
      "cell_type": "markdown",
      "metadata": {
        "id": "view-in-github",
        "colab_type": "text"
      },
      "source": [
        "<a href=\"https://colab.research.google.com/github/wlommusic/datastructuresAlgo/blob/dsa2/array_ques.ipynb\" target=\"_parent\"><img src=\"https://colab.research.google.com/assets/colab-badge.svg\" alt=\"Open In Colab\"/></a>"
      ]
    },
    {
      "cell_type": "code",
      "execution_count": 1,
      "metadata": {
        "id": "bTDTMQRuqwW5"
      },
      "outputs": [],
      "source": [
        "def anagram1(s1,s2):\n",
        "  s1 = s1.replace(' ','').lower()\n",
        "  s2 = s2.replace(' ','').lower()\n",
        "  return sorted(s1) == sorted(s2)"
      ]
    },
    {
      "cell_type": "code",
      "source": [
        "anagram1('god','dog')"
      ],
      "metadata": {
        "colab": {
          "base_uri": "https://localhost:8080/"
        },
        "id": "WjUQrdDJrum8",
        "outputId": "e4a33408-e6d6-445a-b89e-1d7d132ad1f0"
      },
      "execution_count": 11,
      "outputs": [
        {
          "output_type": "execute_result",
          "data": {
            "text/plain": [
              "True"
            ]
          },
          "metadata": {},
          "execution_count": 11
        }
      ]
    },
    {
      "cell_type": "code",
      "source": [
        "def anagram2(s1,s2):\n",
        "   s1 = s1.replace(' ','').lower()\n",
        "   s2 = s2.replace(' ','').lower()\n",
        "   \n",
        "   if len(s1) != len(s2):\n",
        "     return False\n",
        "\n",
        "   count={}\n",
        "   \n",
        "   for letter in s1:\n",
        "     if letter in count:\n",
        "       count[letter]+=1\n",
        "     else:\n",
        "       count[letter]=1\n",
        "\n",
        "   for letter in s2:\n",
        "     if letter in count:\n",
        "       count[letter]-=1\n",
        "     else:\n",
        "       count[letter]=1   \n",
        "   \n",
        "   for k in count:\n",
        "     if count[k]!=0:\n",
        "       return False\n",
        "\n",
        "   return True      \n",
        "\n",
        "\n"
      ],
      "metadata": {
        "id": "OiyJ0Otlr8c0"
      },
      "execution_count": 13,
      "outputs": []
    },
    {
      "cell_type": "code",
      "source": [
        "anagram2('clint eastwood','old west action')"
      ],
      "metadata": {
        "colab": {
          "base_uri": "https://localhost:8080/"
        },
        "id": "pe8k-tuJ3MeD",
        "outputId": "629a9707-e0ba-46dc-f4c0-caf63f7b0948"
      },
      "execution_count": 16,
      "outputs": [
        {
          "output_type": "execute_result",
          "data": {
            "text/plain": [
              "True"
            ]
          },
          "metadata": {},
          "execution_count": 16
        }
      ]
    }
  ]
}